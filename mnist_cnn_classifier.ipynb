{
 "cells": [
  {
   "cell_type": "code",
   "execution_count": 1,
   "metadata": {
    "id": "EhD5Io0VH5C2",
    "trusted": true
   },
   "outputs": [],
   "source": [
    "import os\n",
    "import random\n",
    "import shutil\n",
    "from pathlib import Path\n",
    "import torch\n",
    "import matplotlib.pyplot as plt\n",
    "import numpy as np\n",
    "from tqdm import tqdm\n",
    "import torch.nn.functional as F\n",
    "from torch import nn\n",
    "from torchvision import datasets, transforms\n",
    "import torchvision.transforms\n",
    "from torch.utils.data import DataLoader, Subset\n",
    "from torchvision.datasets import ImageFolder # that can be applied on these datasets\n",
    "\n",
    "# https://www.kaggle.com/code/vikasbhadoria/mnist-data-99-5-accuracy-using-pytorch/"
   ]
  },
  {
   "cell_type": "code",
   "execution_count": 2,
   "metadata": {
    "id": "7ZFjoVVOIR4j",
    "trusted": true
   },
   "outputs": [
    {
     "name": "stdout",
     "output_type": "stream",
     "text": [
      "cuda:0\n"
     ]
    }
   ],
   "source": [
    "device = torch.device(\"cuda:0\" if torch.cuda.is_available() else \"cpu\") # To use to cuda GPU\n",
    "print(device)\n",
    "\n",
    "# data/classifier/\n",
    "# ├── train/\n",
    "# │   ├── class_0/  (contains images for class 0)\n",
    "# │   ├── class_1/  (contains images for class 1)\n",
    "# │   ├── .../\n",
    "# └── val/\n",
    "#     ├── class_0/\n",
    "#     ├── class_1/\n",
    "#     ├── .../\n"
   ]
  },
  {
   "cell_type": "code",
   "execution_count": 3,
   "metadata": {},
   "outputs": [
    {
     "name": "stdout",
     "output_type": "stream",
     "text": [
      "data/mnist_images data/classifier/train data/classifier/val\n"
     ]
    },
    {
     "name": "stderr",
     "output_type": "stream",
     "text": [
      "Processing classes: 100%|██████████| 10/10 [00:02<00:00,  4.35it/s]"
     ]
    },
    {
     "name": "stdout",
     "output_type": "stream",
     "text": [
      "\n",
      "Move operation completed.\n",
      "Successfully moved: 60000 files.\n",
      "Failed to move: 0 files.\n"
     ]
    },
    {
     "name": "stderr",
     "output_type": "stream",
     "text": [
      "\n"
     ]
    }
   ],
   "source": [
    "import os\n",
    "import shutil\n",
    "import random\n",
    "from pathlib import Path\n",
    "from tqdm import tqdm\n",
    "\n",
    "input_dir = 'data/mnist_images'  # This is the directory with all 60K .png images\n",
    "train_dir = 'data/classifier/train' # 10K\n",
    "val_dir = 'data/classifier/val' # 50K\n",
    "print(input_dir, train_dir, val_dir)\n",
    "\n",
    "# Create directories if they don't exist\n",
    "os.makedirs(train_dir, exist_ok=True)\n",
    "os.makedirs(val_dir, exist_ok=True)\n",
    "\n",
    "for i in range(10):\n",
    "    os.makedirs(os.path.join(train_dir, f'class_{i}'), exist_ok=True)\n",
    "    os.makedirs(os.path.join(val_dir, f'class_{i}'), exist_ok=True)\n",
    "\n",
    "# Collect all .png files\n",
    "png_files = list(Path(input_dir).rglob('*.png'))\n",
    "\n",
    "# Classify files by their label\n",
    "class_files = {str(i): [] for i in range(10)}\n",
    "for file in png_files:\n",
    "    # Extract class label from the filename (class_randomId.png)\n",
    "    class_label = file.stem.split('_')[0]  # Get the stem (filename without extension) and split on '_'\n",
    "    if class_label in class_files:\n",
    "        class_files[class_label].append(file)\n",
    "\n",
    "# Progress tracking and batch size control\n",
    "total_train_size = 1000  # Target for the training set\n",
    "total_val_size = 5000    # Target for the validation set\n",
    "train_size_per_class = total_train_size // 10  # Target train size per class (1000)\n",
    "val_size_per_class = total_val_size // 10      # Target validation size per class (5000)\n",
    "\n",
    "# Set the deviation limit to 30 files\n",
    "deviation_limit = 30\n",
    "\n",
    "# Initialize counters for success and failure\n",
    "success_count = 0\n",
    "failure_count = 0\n",
    "failed_files = []  # To keep track of files that failed to move\n",
    "\n",
    "# Process each class and ensure each has similar numbers of files\n",
    "for class_label, files in tqdm(class_files.items(), desc=\"Processing classes\", total=10):\n",
    "    random.shuffle(files)\n",
    "\n",
    "    # Split into training and validation based on the batch size rules\n",
    "    class_total = len(files)\n",
    "    val_count = min(val_size_per_class, class_total - train_size_per_class)\n",
    "    train_count = class_total - val_count\n",
    "\n",
    "    # Ensure the deviation limit of ±30\n",
    "    if abs(train_count - train_size_per_class) > deviation_limit:\n",
    "        adjustment = (train_count - train_size_per_class) // abs(train_count - train_size_per_class)\n",
    "        train_count = train_size_per_class + adjustment * deviation_limit\n",
    "        val_count = class_total - train_count\n",
    "\n",
    "    # Separate files into validation and training sets\n",
    "    val_files = files[:val_count]\n",
    "    train_files = files[val_count:val_count + train_count]\n",
    "\n",
    "    # Move validation files to the 'val' directory\n",
    "    for file_path in tqdm(val_files, desc=f\"Moving validation files for class {class_label}\", leave=False):\n",
    "        dst_path = os.path.join(val_dir, f'class_{class_label}', file_path.name)  # Use file_path.name for filename\n",
    "        try:\n",
    "            shutil.copy(file_path, dst_path)\n",
    "            success_count += 1\n",
    "        except Exception as e:\n",
    "            failure_count += 1\n",
    "            failed_files.append((file_path, str(e)))  # Store failed file and error\n",
    "\n",
    "    # Move training files to the 'train' directory\n",
    "    for file_path in tqdm(train_files, desc=f\"Moving training files for class {class_label}\", leave=False):\n",
    "        dst_path = os.path.join(train_dir, f'class_{class_label}', file_path.name)  # Use file_path.name for filename\n",
    "        try:\n",
    "            shutil.copy(file_path, dst_path)\n",
    "            success_count += 1\n",
    "        except Exception as e:\n",
    "            failure_count += 1\n",
    "            failed_files.append((file_path, str(e)))  # Store failed file and error\n",
    "\n",
    "# Final results\n",
    "print(\"\\nMove operation completed.\")\n",
    "print(f\"Successfully moved: {success_count} files.\")\n",
    "print(f\"Failed to move: {failure_count} files.\")\n",
    "\n",
    "# If there were failures, print details\n",
    "if failure_count > 0:\n",
    "    print(\"\\nFailed file details:\")\n",
    "    for file, error in failed_files:\n",
    "        print(f\"File: {file}, Error: {error}\")\n"
   ]
  },
  {
   "cell_type": "code",
   "execution_count": null,
   "metadata": {},
   "outputs": [],
   "source": []
  },
  {
   "cell_type": "code",
   "execution_count": 4,
   "metadata": {},
   "outputs": [],
   "source": [
    "path_train = 'data/classifier/train'\n",
    "path_val = 'data/classifier/val'"
   ]
  },
  {
   "cell_type": "code",
   "execution_count": 5,
   "metadata": {},
   "outputs": [],
   "source": [
    "# Define your transformations (Resize, Tensor conversion, and Normalization)\n",
    "transform = transforms.Compose([\n",
    "    transforms.Resize((32, 32)),\n",
    "    transforms.Grayscale(num_output_channels=1),  # In case the images are not grayscale\n",
    "    # transforms.Lambda(lambda img: img.convert('RGB')),\n",
    "    transforms.ToTensor(),\n",
    "    transforms.Normalize((0.5,), (0.5,))\n",
    "])\n",
    "\n",
    "# Use ImageFolder to load images from local directories\n",
    "training_dataset = ImageFolder(root='./data/classifier/train', transform=transform)\n",
    "validation_dataset = ImageFolder(root='./data/classifier/val', transform=transform)\n",
    "\n",
    "val_dataset_size = len(validation_dataset)\n",
    "# Create a subset by specifying indices\n",
    "# You can select a fixed number or percentage of the dataset for the subset\n",
    "subset_indices = np.random.choice(val_dataset_size, size=5000, replace=False)  # Subsample 5,000 images\n",
    "validation_subset_dataset = Subset(validation_dataset, subset_indices)\n",
    "\n",
    "\n",
    "\n",
    "\n",
    "# Create DataLoader for the training and validation datasets\n",
    "training_loader = DataLoader(training_dataset, batch_size=100, shuffle=True)\n",
    "# validation_loader = DataLoader(validation_dataset, batch_size=100, shuffle=False)\n",
    "validation_loader = validation_subset_loader = DataLoader(validation_subset_dataset, batch_size=100, shuffle=True)"
   ]
  },
  {
   "cell_type": "code",
   "execution_count": 6,
   "metadata": {},
   "outputs": [],
   "source": [
    "# len(training_dataset)\n",
    "# len(validation_dataset)\n",
    "# len(validation_subset_dataset)"
   ]
  },
  {
   "cell_type": "code",
   "execution_count": 7,
   "metadata": {
    "id": "jW15TfMiJ2sk",
    "trusted": true
   },
   "outputs": [],
   "source": [
    "class LeNet(nn.Module):\n",
    "    def __init__(self):\n",
    "        super().__init__()\n",
    "        self.conv1 = nn.Conv2d(1, 20, 5, 1)  # Conv layer1\n",
    "        self.conv2 = nn.Conv2d(20, 50, 5, 1)  # Conv layer2\n",
    "        self.fc1 = nn.Linear(50 * 5 * 5, 500)  # Fully connected layer1\n",
    "        self.dropout1 = nn.Dropout(0.5)  # Dropout layer\n",
    "        self.fc2 = nn.Linear(500, 10)  # Fully connected layer2\n",
    "    \n",
    "    def forward(self, x):\n",
    "        x = F.relu(self.conv1(x))  # Apply ReLU to Conv1\n",
    "        x = F.max_pool2d(x, 2, 2)  # Max pooling after Conv1\n",
    "        x = F.relu(self.conv2(x))  # Apply ReLU to Conv2\n",
    "        x = F.max_pool2d(x, 2, 2)  # Max pooling after Conv2\n",
    "        # print(x.shape)  # Debugging print statement\n",
    "        batch_size = x.size(0)  # Get batch size\n",
    "        x = x.view(batch_size, -1)  # Flatten the tensor for the fully connected layer\n",
    "\n",
    "        x = F.relu(self.fc1(x))  # Fully connected layer 1 with ReLU\n",
    "        x = self.dropout1(x)  # Apply dropout\n",
    "        x = self.fc2(x)  # Fully connected layer 2 (output)\n",
    "        return x\n"
   ]
  },
  {
   "cell_type": "code",
   "execution_count": 8,
   "metadata": {
    "id": "KumHcA2gL8Po",
    "outputId": "21bb9c62-c0e5-48b9-8a89-847f408e7b3f",
    "trusted": true
   },
   "outputs": [
    {
     "data": {
      "text/plain": [
       "LeNet(\n",
       "  (conv1): Conv2d(1, 20, kernel_size=(5, 5), stride=(1, 1))\n",
       "  (conv2): Conv2d(20, 50, kernel_size=(5, 5), stride=(1, 1))\n",
       "  (fc1): Linear(in_features=1250, out_features=500, bias=True)\n",
       "  (dropout1): Dropout(p=0.5, inplace=False)\n",
       "  (fc2): Linear(in_features=500, out_features=10, bias=True)\n",
       ")"
      ]
     },
     "execution_count": 8,
     "metadata": {},
     "output_type": "execute_result"
    }
   ],
   "source": [
    "model = LeNet().to(device)\n",
    "model"
   ]
  },
  {
   "cell_type": "code",
   "execution_count": 9,
   "metadata": {
    "id": "nD0Tcsu9Oqkn",
    "trusted": true
   },
   "outputs": [],
   "source": [
    "criterion = nn.CrossEntropyLoss()\n",
    "optimizer = torch.optim.Adam(model.parameters(), lr = 0.0001)"
   ]
  },
  {
   "cell_type": "code",
   "execution_count": 10,
   "metadata": {
    "id": "PCPw4kGMO3BK",
    "outputId": "b1a1864f-b7c2-4b99-9e75-fb2caf50781c",
    "trusted": true
   },
   "outputs": [
    {
     "name": "stdout",
     "output_type": "stream",
     "text": [
      "epoch : 1\n",
      "training loss: 2.2427, acc 25.1905 \n",
      "validation loss: 2.1469, validation acc 48.1600 \n",
      "epoch : 2\n",
      "training loss: 2.0168, acc 55.0952 \n",
      "validation loss: 1.8247, validation acc 62.7200 \n",
      "epoch : 3\n",
      "training loss: 1.6169, acc 66.9048 \n",
      "validation loss: 1.3718, validation acc 70.1400 \n",
      "epoch : 4\n",
      "training loss: 1.1672, acc 71.9048 \n",
      "validation loss: 0.9868, validation acc 74.5400 \n",
      "epoch : 5\n",
      "training loss: 0.8512, acc 76.7143 \n",
      "validation loss: 0.7566, validation acc 78.8800 \n",
      "epoch : 6\n",
      "training loss: 0.6738, acc 79.8571 \n",
      "validation loss: 0.6375, validation acc 81.2800 \n",
      "epoch : 7\n",
      "training loss: 0.5586, acc 82.4762 \n",
      "validation loss: 0.5588, validation acc 83.8400 \n",
      "epoch : 8\n",
      "training loss: 0.4857, acc 84.6190 \n",
      "validation loss: 0.5097, validation acc 84.5200 \n",
      "epoch : 9\n",
      "training loss: 0.4325, acc 87.2857 \n",
      "validation loss: 0.4767, validation acc 85.6600 \n",
      "epoch : 10\n",
      "training loss: 0.4041, acc 87.0000 \n",
      "validation loss: 0.4372, validation acc 87.2200 \n",
      "epoch : 11\n",
      "training loss: 0.3693, acc 88.0000 \n",
      "validation loss: 0.4200, validation acc 87.3800 \n",
      "epoch : 12\n",
      "training loss: 0.3433, acc 89.4286 \n",
      "validation loss: 0.4055, validation acc 87.6000 \n",
      "epoch : 13\n",
      "training loss: 0.3244, acc 89.2381 \n",
      "validation loss: 0.3843, validation acc 88.3800 \n",
      "epoch : 14\n",
      "training loss: 0.3129, acc 90.0000 \n",
      "validation loss: 0.3671, validation acc 88.8000 \n",
      "epoch : 15\n",
      "training loss: 0.2825, acc 90.6667 \n",
      "validation loss: 0.3496, validation acc 89.5600 \n"
     ]
    }
   ],
   "source": [
    "epochs = 15\n",
    "running_loss_history = []\n",
    "running_corrects_history = []\n",
    "val_running_loss_history = []\n",
    "val_running_corrects_history = []\n",
    "\n",
    "for e in range(epochs):\n",
    "  \n",
    "  running_loss = 0.0\n",
    "  running_corrects = 0.0\n",
    "  val_running_loss = 0.0\n",
    "  val_running_corrects = 0.0\n",
    "  \n",
    "  for inputs, labels in training_loader: # As our train_loader is batch size of 100 and had input images and corresponding labels\n",
    "    inputs = inputs.to(device)  # Put our inputs and labels in the device as our model is also in the device\n",
    "    labels = labels.to(device)\n",
    "    outputs = model(inputs)   # giving input to our model to get corresponding output\n",
    "    loss = criterion(outputs, labels) # comparing out model's output to original labels\n",
    "    \n",
    "    optimizer.zero_grad()  ##sets the initial gradient to zero\n",
    "    loss.backward()  ## The whole calculated loss is then back propogated to the model\n",
    "    optimizer.step()  ## Then the weights are updated by doing their derivative w.r.t the Loss\n",
    "    \n",
    "    _, preds = torch.max(outputs, 1) # Then we select the max value of raw output and consider it as our prediction. We select it from 10 o/ps\n",
    "    running_loss += loss.item()  # total loss of 1 epoch\n",
    "    running_corrects += torch.sum(preds == labels.data) #total accuracy of 1 epoch\n",
    "\n",
    "  else:\n",
    "    with torch.no_grad(): # This we done to set no gradient as we do not need it for val as our model is already trained.\n",
    "      for val_inputs, val_labels in validation_loader:\n",
    "        val_inputs = val_inputs.to(device)  # Put our val_inputs and labels in the device as our model is also in the device\n",
    "        val_labels = val_labels.to(device)\n",
    "        val_outputs = model(val_inputs)\n",
    "        val_loss = criterion(val_outputs, val_labels)\n",
    "        \n",
    "        _, val_preds = torch.max(val_outputs, 1)\n",
    "        val_running_loss += val_loss.item()\n",
    "        val_running_corrects += torch.sum(val_preds == val_labels.data)\n",
    "      \n",
    "    epoch_loss = running_loss/len(training_loader)\n",
    "    epoch_acc = running_corrects.float()/ len(training_loader)\n",
    "    running_loss_history.append(epoch_loss)\n",
    "    running_corrects_history.append(epoch_acc)\n",
    "    \n",
    "    val_epoch_loss = val_running_loss/len(validation_loader)\n",
    "    val_epoch_acc = val_running_corrects.float()/ len(validation_loader)\n",
    "    val_running_loss_history.append(val_epoch_loss)\n",
    "    val_running_corrects_history.append(val_epoch_acc)\n",
    "    print('epoch :', (e+1))\n",
    "    print('training loss: {:.4f}, acc {:.4f} '.format(epoch_loss, epoch_acc.item()))\n",
    "    print('validation loss: {:.4f}, validation acc {:.4f} '.format(val_epoch_loss, val_epoch_acc.item()))"
   ]
  },
  {
   "cell_type": "code",
   "execution_count": 11,
   "metadata": {
    "id": "Mu4RXFsIRo7j",
    "outputId": "13a68ca6-28e0-4a95-b217-4999e1bf2159",
    "trusted": true
   },
   "outputs": [
    {
     "data": {
      "text/plain": [
       "<matplotlib.legend.Legend at 0x7578337f1e10>"
      ]
     },
     "execution_count": 11,
     "metadata": {},
     "output_type": "execute_result"
    },
    {
     "data": {
      "image/png": "[encoded data removed]",
      "text/plain": [
       "<Figure size 640x480 with 1 Axes>"
      ]
     },
     "metadata": {},
     "output_type": "display_data"
    }
   ],
   "source": [
    "plt.plot(running_loss_history, label='training loss')\n",
    "plt.plot(val_running_loss_history, label='validation loss')\n",
    "plt.legend()"
   ]
  },
  {
   "cell_type": "code",
   "execution_count": 12,
   "metadata": {
    "id": "XrWonqhvTFt6",
    "outputId": "74d29907-e3af-4b4e-8a39-c8a247f410b8",
    "trusted": true
   },
   "outputs": [
    {
     "data": {
      "image/png": "[encoded data removed]",
      "text/plain": [
       "<Figure size 640x480 with 1 Axes>"
      ]
     },
     "metadata": {},
     "output_type": "display_data"
    }
   ],
   "source": [
    "# plt.plot(running_corrects_history, label='training accuracy')\n",
    "# plt.plot(val_running_corrects_history, label='validation accuracy')\n",
    "# plt.legend()\n",
    "import matplotlib.pyplot as plt\n",
    "\n",
    "# Convert the list of tensors to a list of floats (move to CPU and get the value)\n",
    "running_corrects_history_cpu = [x.cpu().item() for x in running_corrects_history]\n",
    "val_running_corrects_history_cpu = [x.cpu().item() for x in val_running_corrects_history]\n",
    "\n",
    "# Now you can plot them as lists of floats\n",
    "plt.plot(running_corrects_history_cpu, label='training accuracy')\n",
    "plt.plot(val_running_corrects_history_cpu, label='validation accuracy')\n",
    "plt.legend()\n",
    "plt.show()\n"
   ]
  }
 ],
 "metadata": {
  "kaggle": {
   "accelerator": "gpu",
   "dataSources": [
    {
     "databundleVersionId": 861823,
     "sourceId": 3004,
     "sourceType": "competition"
    }
   ],
   "dockerImageVersionId": 29955,
   "isGpuEnabled": true,
   "isInternetEnabled": false,
   "language": "python",
   "sourceType": "notebook"
  },
  "kernelspec": {
   "display_name": "MLH",
   "language": "python",
   "name": "python3"
  },
  "language_info": {
   "codemirror_mode": {
    "name": "ipython",
    "version": 3
   },
   "file_extension": ".py",
   "mimetype": "text/x-python",
   "name": "python",
   "nbconvert_exporter": "python",
   "pygments_lexer": "ipython3",
   "version": "3.7.12"
  }
 },
 "nbformat": 4,
 "nbformat_minor": 4
}
