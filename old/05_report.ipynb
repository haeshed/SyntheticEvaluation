{
 "cells": [
  {
   "cell_type": "code",
   "execution_count": null,
   "metadata": {},
   "outputs": [],
   "source": [
    "import matplotlib.pyplot as plt\n",
    "\n",
    "# Report the performance of models and visualize the results\n",
    "def report_results(real_model_score, synthetic_model_scores, sizes):\n",
    "    print(\"Real Model Score:\", real_model_score)\n",
    "    print(\"Synthetic Model Scores:\", synthetic_model_scores)\n",
    "\n",
    "    # Plot accuracy vs dataset size\n",
    "    plt.plot(sizes, synthetic_model_scores, label='Synthetic Data')\n",
    "    plt.axhline(y=real_model_score, color='r', linestyle='--', label='Real Data Benchmark')\n",
    "    plt.xlabel('Synthetic Dataset Size')\n",
    "    plt.ylabel('Accuracy (%)')\n",
    "    plt.title('Performance Comparison of Models')\n",
    "    plt.legend()\n",
    "    plt.show()\n"
   ]
  }
 ],
 "metadata": {
  "language_info": {
   "name": "python"
  }
 },
 "nbformat": 4,
 "nbformat_minor": 2
}
