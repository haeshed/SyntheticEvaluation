{
 "cells": [
  {
   "cell_type": "code",
   "execution_count": null,
   "metadata": {},
   "outputs": [],
   "source": [
    "import torch\n",
    "from torch.utils.data import Subset\n",
    "\n",
    "# Utility to sample data\n",
    "def sample_dataset(dataset, size):\n",
    "    indices = random.sample(range(len(dataset)), size)\n",
    "    return Subset(dataset, indices)\n",
    "\n",
    "# Save and load models\n",
    "def save_model(model, model_name):\n",
    "    torch.save(model.state_dict(), f'./models/{model_name}.pth')\n",
    "\n",
    "def load_model(model_name):\n",
    "    model = SimpleCNN()  # Assuming SimpleCNN for now, adjust based on saved model\n",
    "    model.load_state_dict(torch.load(f'./models/{model_name}.pth'))\n",
    "    return model\n",
    "\n",
    "# Save and load synthetic datasets\n",
    "def save_synthetic_dataset(dataset, file_name):\n",
    "    torch.save(dataset, f'./synthetic_data/{file_name}')\n",
    "\n",
    "# Metric Calculation\n",
    "def calculate_metrics(predictions, labels):\n",
    "    correct = (predictions == labels).sum().item()\n",
    "    total = labels.size(0)\n",
    "    return correct / total\n"
   ]
  }
 ],
 "metadata": {
  "language_info": {
   "name": "python"
  }
 },
 "nbformat": 4,
 "nbformat_minor": 2
}
