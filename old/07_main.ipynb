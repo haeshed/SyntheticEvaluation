{
 "cells": [
  {
   "cell_type": "code",
   "execution_count": null,
   "metadata": {},
   "outputs": [],
   "source": [
    "from train_models import train_model\n",
    "from generate_synthetic import generate_synthetic_data\n",
    "from evaluate_models import evaluate_synthetic_performance\n",
    "from report import report_results\n",
    "\n",
    "# Main entry point\n",
    "if __name__ == \"__main__\":\n",
    "    # Step 1: Train a model on real data\n",
    "    real_train_data, _ = load_real_data()\n",
    "    train_model(real_train_data, dataset_size=1000, model_name=\"real_model.pth\")\n",
    "    \n",
    "    # Step 2: Generate synthetic datasets\n",
    "    for size in [100, 500, 1000]:\n",
    "        generate_synthetic_data(size, model_checkpoint='./checkpoints/stylegan2_model.pkl')\n",
    "    \n",
    "    # Step 3: Evaluate the models\n",
    "    real_score, synthetic_scores = evaluate_synthetic_performance()\n",
    "    \n",
    "    # Step 4: Report the results\n",
    "    report_results(real_score, synthetic_scores, [100, 500, 1000])\n"
   ]
  }
 ],
 "metadata": {
  "language_info": {
   "name": "python"
  }
 },
 "nbformat": 4,
 "nbformat_minor": 2
}
