{
 "cells": [
  {
   "cell_type": "code",
   "execution_count": null,
   "metadata": {},
   "outputs": [],
   "source": [
    "import os\n",
    "import numpy as np\n",
    "import torch\n",
    "from sklearn.model_selection import train_test_split\n",
    "from torchvision import datasets, transforms\n",
    "\n",
    "# Constants and Parameters\n",
    "TEST_SIZE = 0.2  # Reserve 20% of data for testing\n",
    "SEED = 42\n",
    "DATA_DIR = './data'  # Path to real data\n",
    "DEVICE = 'cuda' if torch.cuda.is_available() else 'cpu'\n",
    "\n",
    "# Set random seed\n",
    "np.random.seed(SEED)\n",
    "torch.manual_seed(SEED)\n",
    "\n",
    "# Load Real Dataset (modify this as per your dataset structure)\n",
    "def load_real_data():\n",
    "    transform = transforms.Compose([\n",
    "        transforms.ToTensor(),\n",
    "        transforms.Normalize((0.5,), (0.5,))\n",
    "    ])\n",
    "    dataset = datasets.ImageFolder(DATA_DIR, transform=transform)\n",
    "    train_data, test_data = train_test_split(dataset, test_size=TEST_SIZE, random_state=SEED)\n",
    "    return train_data, test_data\n",
    "\n",
    "def load_test_data():\n",
    "    _, test_data = load_real_data()\n",
    "    return test_data\n"
   ]
  }
 ],
 "metadata": {
  "language_info": {
   "name": "python"
  }
 },
 "nbformat": 4,
 "nbformat_minor": 2
}
