{
 "cells": [
  {
   "cell_type": "code",
   "execution_count": null,
   "metadata": {},
   "outputs": [],
   "source": [
    "import os\n",
    "import torch\n",
    "import subprocess\n",
    "from utils import save_synthetic_dataset\n",
    "\n",
    "# Paths and Constants\n",
    "STYLEGAN2_PATH = './stylegan2-ada-pytorch'\n",
    "OUTPUT_PATH = './synthetic_data'\n",
    "\n",
    "# Command to generate synthetic images using StyleGAN2\n",
    "def generate_synthetic_data(dataset_size, model_checkpoint):\n",
    "    os.makedirs(OUTPUT_PATH, exist_ok=True)\n",
    "    generate_command = [\n",
    "        'python', f'{STYLEGAN2_PATH}/generate.py',\n",
    "        '--outdir', OUTPUT_PATH,\n",
    "        '--trunc', '1',\n",
    "        '--seeds', '0-' + str(dataset_size - 1),\n",
    "        '--network', model_checkpoint\n",
    "    ]\n",
    "    subprocess.run(generate_command)\n",
    "    # Load generated images into a usable format for training\n",
    "    synthetic_data = torch.load(f'{OUTPUT_PATH}/synthetic_dataset.pt')\n",
    "    save_synthetic_dataset(synthetic_data, f'synthetic_{dataset_size}.pt')\n",
    "\n",
    "# Example usage:\n",
    "# generate_synthetic_data(1000, './checkpoints/stylegan2_model.pkl')\n"
   ]
  }
 ],
 "metadata": {
  "language_info": {
   "name": "python"
  }
 },
 "nbformat": 4,
 "nbformat_minor": 2
}
