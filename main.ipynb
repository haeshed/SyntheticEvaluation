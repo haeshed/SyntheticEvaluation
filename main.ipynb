{
 "cells": [
  {
   "cell_type": "code",
   "execution_count": 1,
   "metadata": {},
   "outputs": [],
   "source": [
    "\n",
    "import os\n",
    "import pandas as pd\n",
    "# import train_model\n",
    "# import generate_synthetic\n",
    "# import train_classifier\n",
    "# import test_imgs\n",
    "import numpy as np\n",
    "import torch\n",
    "from datetime import datetime\n",
    "import os\n",
    "import logging\n",
    "from datetime import datetime\n",
    "from random import seed\n",
    "\n",
    "import split_dataset as split\n",
    "import train_model\n",
    "import cnn_classifier"
   ]
  },
  {
   "cell_type": "code",
   "execution_count": 2,
   "metadata": {},
   "outputs": [
    {
     "name": "stdout",
     "output_type": "stream",
     "text": [
      "True\n",
      "1\n"
     ]
    }
   ],
   "source": [
    "\n",
    "path_home = '/home/pathorad3090/Documents/Hadar/SyntheticEvaluation'\n",
    "path_models = path_home + \"/models\"\n",
    "path_raw_data = path_home + \"/data/mnist_images\"\n",
    "path_cnn_classifier = path_home + '/cnn_classifier'\n",
    "\n",
    "print(torch.cuda.is_available())\n",
    "print(torch.cuda.device_count())\n",
    "device = torch.device(\"cuda:0\" if torch.cuda.is_available() else \"cpu\") # To use to cuda GPU\n"
   ]
  },
  {
   "cell_type": "code",
   "execution_count": 3,
   "metadata": {},
   "outputs": [
    {
     "name": "stderr",
     "output_type": "stream",
     "text": [
      "2024-11-08 23:59:08,813 - INFO - Logging setup complete.\n",
      "2024-11-08 23:59:08,814 - INFO - Parameters used: seed=42, train_sizes=[50, 100, 400, 800, 1000, 5000, 10000, 25000, 50000], gen_sizes=[50, 100, 400, 800, 1000, 5000, 10000, 25000, 50000], kimg=500\n",
      "2024-11-08 23:59:08,814 - INFO - log_filename: log_2024_11_08__23_59_08_seed42_trainSizes50_100_400_800_1000_5000_10000_25000_50000_genSizes50_100_400_800_1000_5000_10000_25000_50000_kimg500.log\n",
      "2024-11-08 23:59:08,815 - INFO - Training Configuration:\n",
      "2024-11-08 23:59:08,815 - INFO - Train Sizes: [50, 100, 400, 800, 1000, 5000, 10000, 25000, 50000]\n",
      "2024-11-08 23:59:08,815 - INFO - Generation Sizes: [50, 100, 400, 800, 1000, 5000, 10000, 25000, 50000]\n",
      "2024-11-08 23:59:08,815 - INFO - Train Cutoff: 500\n",
      "2024-11-08 23:59:08,816 - INFO - ----------------------------------------\n"
     ]
    }
   ],
   "source": [
    "\n",
    "# Set parameters for which train_size, gen_size, synthetic/real ratio, GAN train cutoff\n",
    "# Set initial dir for experiments\n",
    "\n",
    "# Set parameters as lists of integer values\n",
    "seed = 42\n",
    "train_sizes = [50, 100, 400, 800, 1000, 5000, 10000, 25000, 50000]  # List of different training sizes\n",
    "gen_sizes = [50, 100, 400, 800, 1000, 5000, 10000, 25000, 50000]  # List of different generation sizes\n",
    "synthetic_real_ratio = 0.5  # Ratio of synthetic to real data\n",
    "gan_train_cutoff = 5000  # Number of GAN training iterations before switching\n",
    "train_ratio = 0.8\n",
    "kimg = 500\n",
    "# Configure logging\n",
    "timestamp = datetime.now().strftime(\"%Y_%m_%d__%H_%M_%S\")\n",
    "log_filename = (f\"log_{timestamp}_seed{seed}_trainSizes{'_'.join(map(str, train_sizes))}_\"\n",
    "                f\"genSizes{'_'.join(map(str, gen_sizes))}_kimg{kimg}.log\")\n",
    "\n",
    "logging.basicConfig(    filename=log_filename, level=logging.INFO, format='%(asctime)s - %(levelname)s - %(message)s')\n",
    "logger = logging.getLogger(__name__)\n",
    "# Example log messages\n",
    "logging.info('Logging setup complete.')\n",
    "logging.info('Parameters used: seed=%d, train_sizes=%s, gen_sizes=%s, kimg=%d', seed, train_sizes, gen_sizes, kimg)\n",
    "\n",
    "# Log the configured parameters for verification\n",
    "logger.info('log_filename: '+ log_filename)\n",
    "logger.info(\"Training Configuration:\")\n",
    "logger.info(f\"Train Sizes: {train_sizes}\")\n",
    "logger.info(f\"Generation Sizes: {gen_sizes}\")\n",
    "# logger.info(f\"Synthetic/Real Ratio: {synthetic_real_ratio}\")\n",
    "# logger.info(f\"StyleGAN2-ADA Training Cutoff: {gan_train_cutoff}\")\n",
    "# logger.info(f\"Train Ratio: {train_ratio}\")\n",
    "logger.info(f\"Train Cutoff: {kimg}\")\n",
    "logger.info(\"-\" * 40)  # Separator for clarity\n"
   ]
  },
  {
   "cell_type": "code",
   "execution_count": 4,
   "metadata": {},
   "outputs": [],
   "source": [
    "# Use preprocessing.ipynb to create a proper dataset\n",
    "# Distribute files to relevant subfolders + create JSON\n"
   ]
  },
  {
   "cell_type": "code",
   "execution_count": 5,
   "metadata": {},
   "outputs": [
    {
     "name": "stderr",
     "output_type": "stream",
     "text": [
      "2024-11-08 23:59:08,829 - INFO - Loading data from /home/pathorad3090/Documents/Hadar/SyntheticEvaluation/data/dataset_full.json for splitting into train/test subsets.\n",
      "2024-11-08 23:59:08,829 - INFO - Splitting data from /home/pathorad3090/Documents/Hadar/SyntheticEvaluation/data/dataset_full.json with train ratio: 0.8\n",
      "Splitting data: 100%|██████████| 10/10 [00:00<00:00, 98.80class/s]\n",
      "2024-11-08 23:59:08,969 - INFO - Split completed: 47995 training samples and 12005 testing samples.\n",
      "2024-11-08 23:59:08,973 - INFO - Saving training data to /home/pathorad3090/Documents/Hadar/SyntheticEvaluation/data/mnist_images/train_data.json.\n",
      "2024-11-08 23:59:08,973 - INFO - Saving data to /home/pathorad3090/Documents/Hadar/SyntheticEvaluation/data/mnist_images/train_data.json\n",
      "2024-11-08 23:59:09,036 - INFO - Data saved successfully: /home/pathorad3090/Documents/Hadar/SyntheticEvaluation/data/mnist_images/train_data.json\n",
      "2024-11-08 23:59:09,038 - INFO - Saving testing data to /home/pathorad3090/Documents/Hadar/SyntheticEvaluation/data/mnist_images/test_data.json.\n",
      "2024-11-08 23:59:09,038 - INFO - Saving data to /home/pathorad3090/Documents/Hadar/SyntheticEvaluation/data/mnist_images/test_data.json\n",
      "2024-11-08 23:59:09,060 - INFO - Data saved successfully: /home/pathorad3090/Documents/Hadar/SyntheticEvaluation/data/mnist_images/test_data.json\n",
      "2024-11-08 23:59:09,060 - INFO - Printing class distribution for training and testing datasets.\n",
      "2024-11-08 23:59:09,060 - INFO - Train data statistics:\n",
      "2024-11-08 23:59:09,061 - INFO - Total number of samples: 47995\n",
      "2024-11-08 23:59:09,062 - INFO - Class distribution:\n",
      "0    4738\n",
      "1    5393\n",
      "2    4766\n",
      "3    4904\n",
      "4    4673\n",
      "5    4336\n",
      "6    4734\n",
      "7    5012\n",
      "8    4680\n",
      "9    4759\n",
      "Name: label, dtype: int64\n",
      "2024-11-08 23:59:09,062 - INFO - Test data statistics:\n",
      "2024-11-08 23:59:09,062 - INFO - Total number of samples: 12005\n",
      "2024-11-08 23:59:09,063 - INFO - Class distribution:\n",
      "0    1185\n",
      "1    1349\n",
      "2    1192\n",
      "3    1227\n",
      "4    1169\n",
      "5    1085\n",
      "6    1184\n",
      "7    1253\n",
      "8    1171\n",
      "9    1190\n",
      "Name: label, dtype: int64\n",
      "2024-11-08 23:59:09,064 - INFO - Data splitting and saving completed successfully.\n"
     ]
    }
   ],
   "source": [
    "# Define paths and parameters\n",
    "full_json = path_home + '/data/dataset_full.json'\n",
    "path_train_json = full_json\n",
    "\n",
    "logger.info(f\"Loading data from {full_json} for splitting into train/test subsets.\")\n",
    "\n",
    "# Split into train/test subsets\n",
    "train_df, test_df = split.split_train_test(path_train_json, train_ratio, seed=seed)\n",
    "\n",
    "path_train_json = f\"{path_raw_data}/train_data.json\"\n",
    "path_test_json = f\"{path_raw_data}/test_data.json\"\n",
    "\n",
    "logger.info(f\"Saving training data to {path_train_json}.\")\n",
    "split.save_json_dataset(train_df, path_train_json)\n",
    "\n",
    "logger.info(f\"Saving testing data to {path_test_json}.\")\n",
    "split.save_json_dataset(test_df, path_test_json)\n",
    "\n",
    "logger.info(\"Printing class distribution for training and testing datasets.\")\n",
    "split.print_class_distribution(train_df, \"Train\")\n",
    "split.print_class_distribution(test_df, \"Test\")\n",
    "\n",
    "logger.info(\"Data splitting and saving completed successfully.\")\n"
   ]
  },
  {
   "cell_type": "code",
   "execution_count": 6,
   "metadata": {},
   "outputs": [],
   "source": [
    "# !export MKL_SERVICE_FORCE_INTEL=1"
   ]
  },
  {
   "cell_type": "code",
   "execution_count": 7,
   "metadata": {},
   "outputs": [
    {
     "name": "stderr",
     "output_type": "stream",
     "text": [
      "2024-11-08 23:59:09,073 - INFO - Creating directories for test files: /home/pathorad3090/Documents/Hadar/SyntheticEvaluation/cnn_classifier json with size: 500\n",
      "2024-11-08 23:59:09,134 - INFO - Subset DataFrame created. Path raw data: /home/pathorad3090/Documents/Hadar/SyntheticEvaluation/data/mnist_images, Path classifier data: /home/pathorad3090/Documents/Hadar/SyntheticEvaluation/cnn_classifier/data\n",
      "2024-11-08 23:59:09,135 - INFO - Copying images from /home/pathorad3090/Documents/Hadar/SyntheticEvaluation/data/mnist_images to /home/pathorad3090/Documents/Hadar/SyntheticEvaluation/cnn_classifier/data/train\n",
      "2024-11-08 23:59:11,784 - INFO - Copying images from /home/pathorad3090/Documents/Hadar/SyntheticEvaluation/data/mnist_images to /home/pathorad3090/Documents/Hadar/SyntheticEvaluation/cnn_classifier/data/val\n",
      "2024-11-08 23:59:12,494 - INFO - Saving subset data to /home/pathorad3090/Documents/Hadar/SyntheticEvaluation/cnn_classifier\n",
      "2024-11-08 23:59:12,494 - INFO - Saving data to /home/pathorad3090/Documents/Hadar/SyntheticEvaluation/cnn_classifier/dataset_train.json\n",
      "2024-11-08 23:59:12,586 - INFO - Data saved successfully: /home/pathorad3090/Documents/Hadar/SyntheticEvaluation/cnn_classifier/dataset_train.json\n",
      "2024-11-08 23:59:12,588 - INFO - Saving data to /home/pathorad3090/Documents/Hadar/SyntheticEvaluation/cnn_classifier/dataset_test.json\n",
      "2024-11-08 23:59:12,603 - INFO - Data saved successfully: /home/pathorad3090/Documents/Hadar/SyntheticEvaluation/cnn_classifier/dataset_test.json\n",
      "2024-11-08 23:59:12,604 - INFO - Distributing files into label directories at /home/pathorad3090/Documents/Hadar/SyntheticEvaluation/cnn_classifier/data\n",
      "2024-11-08 23:59:12,604 - INFO - Distributing files in /home/pathorad3090/Documents/Hadar/SyntheticEvaluation/cnn_classifier/data/train to label directories.\n",
      "2024-11-08 23:59:13,718 - INFO - Distributing files in /home/pathorad3090/Documents/Hadar/SyntheticEvaluation/cnn_classifier/data/val to label directories.\n",
      "2024-11-08 23:59:13,992 - INFO - Generating labels JSON for the subset.\n",
      "2024-11-08 23:59:13,993 - INFO - Starting to generate labels JSON file...\n",
      "2024-11-08 23:59:13,993 - INFO - Base directory: /home/pathorad3090/Documents/Hadar/SyntheticEvaluation/cnn_classifier/data/train\n",
      "2024-11-08 23:59:14,053 - INFO - Processed 10000 files...\n",
      "2024-11-08 23:59:14,114 - INFO - Processed 20000 files...\n",
      "2024-11-08 23:59:14,189 - INFO - Processed 30000 files...\n",
      "2024-11-08 23:59:14,251 - INFO - Processed 40000 files...\n",
      "2024-11-08 23:59:14,355 - INFO - Generated labels JSON file with 47995 entries.\n",
      "2024-11-08 23:59:14,357 - INFO - Starting to generate labels JSON file...\n",
      "2024-11-08 23:59:14,357 - INFO - Base directory: /home/pathorad3090/Documents/Hadar/SyntheticEvaluation/cnn_classifier/data/val\n",
      "2024-11-08 23:59:14,416 - INFO - Processed 10000 files...\n",
      "2024-11-08 23:59:14,443 - INFO - Generated labels JSON file with 12005 entries.\n"
     ]
    }
   ],
   "source": [
    "# create classifier dataset to train\n",
    "\n",
    "path_test_json = path_test_json\n",
    "path_train_json = path_train_json\n",
    "test_size = 500\n",
    "\n",
    "\n",
    "logger.info(f\"Creating directories for test files: {path_cnn_classifier} json with size: {test_size}\")\n",
    "# _, _, path_model_images = split.open_folders(model_name, path_cnn_classifier)\n",
    "path_classifier_data = path_cnn_classifier + \"/data\"\n",
    "path_classifier_train = os.path.join(path_classifier_data,'train')\n",
    "path_classifier_val = os.path.join(path_classifier_data,'val')\n",
    "os.makedirs(path_cnn_classifier, exist_ok=True)\n",
    "os.makedirs(path_classifier_data, exist_ok=True)\n",
    "os.makedirs(path_classifier_train, exist_ok=True)\n",
    "os.makedirs(path_classifier_val, exist_ok=True)\n",
    "\n",
    "\n",
    "\n",
    "cnn_train_df = pd.read_json(path_train_json)\n",
    "cnn_val_df = pd.read_json(path_test_json)\n",
    "# print(cnn_train_df['labels'])\n",
    "cnn_train_df = pd.DataFrame(cnn_train_df['labels'].tolist(), columns=['file_path', 'label'])\n",
    "cnn_val_df = pd.DataFrame(cnn_val_df['labels'].tolist(), columns=['file_path', 'label'])\n",
    "\n",
    "\n",
    "\n",
    "logger.info(f\"Subset DataFrame created. Path raw data: {path_raw_data}, Path classifier data: {path_classifier_data}\")\n",
    "split.copy_images_to_model_and_dataset(cnn_train_df, path_raw_data, path_classifier_train)\n",
    "split.copy_images_to_model_and_dataset(cnn_val_df, path_raw_data, path_classifier_val)\n",
    "\n",
    "\n",
    "logger.info(f\"Saving subset data to {path_cnn_classifier}\")\n",
    "split.save_json_dataset(cnn_train_df, path_cnn_classifier + \"/dataset_train.json\")\n",
    "split.save_json_dataset(cnn_val_df, path_cnn_classifier + \"/dataset_test.json\")\n",
    "\n",
    "\n",
    "logger.info(f\"Distributing files into label directories at {path_classifier_data}\")\n",
    "split.distribute_files_to_label_dirs(path_classifier_train)\n",
    "split.distribute_files_to_label_dirs(path_classifier_val)\n",
    "\n",
    "\n",
    "logger.info(\"Generating labels JSON for the subset.\")\n",
    "split.generate_labels_json(path_classifier_train, path_classifier_train, \"dataset.json\")\n",
    "split.generate_labels_json(path_classifier_val, path_classifier_val, \"dataset.json\")\n"
   ]
  },
  {
   "cell_type": "code",
   "execution_count": 8,
   "metadata": {},
   "outputs": [
    {
     "name": "stdout",
     "output_type": "stream",
     "text": [
      "Epoch 1/3\n",
      "Train Loss: 0.6641, Train Accuracy: 81.8708\n",
      "Val Loss: 0.2653, Val Accuracy: 91.8200\n",
      "Epoch 2/3\n",
      "Train Loss: 0.1976, Train Accuracy: 94.2521\n",
      "Val Loss: 0.1521, Val Accuracy: 95.5000\n",
      "Epoch 3/3\n",
      "Train Loss: 0.1306, Train Accuracy: 96.0521\n",
      "Val Loss: 0.1117, Val Accuracy: 96.9000\n"
     ]
    }
   ],
   "source": [
    "# train_dir = ??\n",
    "# val_dir = ??\n",
    "\n",
    "\n",
    "# Define paths to training and validation directories\n",
    "train_dir = path_classifier_train\n",
    "val_dir = path_classifier_val\n",
    "\n",
    "# Set device for training (cuda or cpu)\n",
    "device = torch.device('cuda' if torch.cuda.is_available() else 'cpu')\n",
    "\n",
    "# Create DataLoader objects using create_dataloaders function from cnn.py\n",
    "batch_size = 100\n",
    "train_loader, val_loader = cnn_classifier.create_dataloaders(train_dir, val_dir, batch_size)\n",
    "\n",
    "# Initialize the LeNet model\n",
    "model = cnn_classifier.LeNet().to(device)\n",
    "\n",
    "# Define the loss function and optimizer\n",
    "criterion = torch.nn.CrossEntropyLoss()\n",
    "optimizer = torch.optim.Adam(model.parameters(), lr=0.0001)\n",
    "\n",
    "# Train the model using train_model function from cnn.py\n",
    "epochs = 3\n",
    "running_loss_history, running_corrects_history, val_running_loss_history, val_running_corrects_history = cnn_classifier.train_model(\n",
    "    model, criterion, optimizer, train_loader, val_loader, epochs, device\n",
    ")\n",
    "\n"
   ]
  },
  {
   "cell_type": "code",
   "execution_count": 9,
   "metadata": {},
   "outputs": [
    {
     "name": "stdout",
     "output_type": "stream",
     "text": [
      "[tensor(81.8708, device='cuda:0'), tensor(94.2521, device='cuda:0'), tensor(96.0521, device='cuda:0')]\n",
      "[tensor(91.8200, device='cuda:0'), tensor(95.5000, device='cuda:0'), tensor(96.9000, device='cuda:0')]\n",
      "[0.664115802012384, 0.19762779693119228, 0.1306118492386304]\n",
      "[0.2653072074055672, 0.15209526404738427, 0.1116885582357645]\n"
     ]
    },
    {
     "data": {
      "image/png": "[encoded data removed]",
      "text/plain": [
       "<Figure size 1200x600 with 2 Axes>"
      ]
     },
     "metadata": {},
     "output_type": "display_data"
    },
    {
     "name": "stdout",
     "output_type": "stream",
     "text": [
      "Model saved to /home/pathorad3090/Documents/Hadar/SyntheticEvaluation/cnn_classifier/model.pth\n"
     ]
    }
   ],
   "source": [
    "print(running_corrects_history)\n",
    "print(val_running_corrects_history)\n",
    "print(running_loss_history)\n",
    "print(val_running_loss_history)\n",
    "\n",
    "running_corrects_history_cpu = [x.cpu().item() for x in running_corrects_history]\n",
    "val_running_corrects_history_cpu = [x.cpu().item() for x in val_running_corrects_history]\n",
    "# running_loss_history_cpu = [x.cpu().item() for x in running_loss_history]\n",
    "# val_running_loss_history_cpu = [x.cpu().item() for x in val_running_loss_history]\n",
    "# Plot the training and validation loss/accuracy over epochs using plot_results function from cnn.py\n",
    "cnn_classifier.plot_results(running_loss_history, val_running_loss_history,running_corrects_history_cpu, val_running_corrects_history_cpu)\n",
    "\n",
    "# Optionally save the model after training\n",
    "model_save_path = path_cnn_classifier+'/model.pth'\n",
    "torch.save(model.state_dict(), model_save_path)\n",
    "print(f'Model saved to {model_save_path}')\n",
    "\n"
   ]
  },
  {
   "cell_type": "code",
   "execution_count": null,
   "metadata": {},
   "outputs": [],
   "source": [
    "# train MLP/CNN classifier, test for benchmark using test_imgs.py\n"
   ]
  },
  {
   "cell_type": "code",
   "execution_count": null,
   "metadata": {},
   "outputs": [],
   "source": [
    "# train_json = path_raw_data + '/train_data.json'\n",
    "path_curr_run = os.path.join(path_models, 'run_' + datetime.now().strftime('%Y%m%d_%H-%M'))\n",
    "# train_sizes = [40000]\n",
    "\n",
    "for train_size in train_sizes:\n",
    "    # Create a name for the subset and the model\n",
    "    model_name = f\"model_{train_size}_{datetime.now().strftime('%Y%m%d_%H-%M')}\"\n",
    "    path_model = os.path.join(path_curr_run, model_name)\n",
    "    path_experiments = os.path.join(path_model, 'experiments')\n",
    "    path_dataset = os.path.join(path_model, 'dataset')\n",
    "    path_subset_json = f\"{path_model}/dataset_subset_size_{train_size}_seed_{seed}.json\"\n",
    "    \n",
    "    logger.info(f\"Creating directories for model: {model_name}\")\n",
    "    _, _, path_model_images = split.open_folders(model_name, path_model)\n",
    "    \n",
    "    logger.info(f\"Generating subset data from {path_train_json} with size {train_size} and seed {seed}\")\n",
    "    subset_df = split.subset_data(path_train_json, train_size, seed)\n",
    "    \n",
    "    logger.info(f\"Subset DataFrame created. Path raw data: {path_raw_data}, Path model images: {path_model_images}\")\n",
    "    split.copy_images_to_model_and_dataset(subset_df, path_raw_data, path_model_images)\n",
    "    \n",
    "    logger.info(f\"Saving subset data to {path_subset_json}\")\n",
    "    split.save_json_dataset(subset_df, path_subset_json)\n",
    "\n",
    "    logger.info(f\"Distributing files into label directories at {path_model_images}\")\n",
    "    split.distribute_files_to_label_dirs(path_model_images)\n",
    "    \n",
    "    logger.info(\"Generating labels JSON for the subset.\")\n",
    "    split.generate_labels_json(path_model_images, path_model_images, \"dataset.json\")\n",
    "    \n",
    "    logger.info(f\"Creating dataset for {model_name}...\")\n",
    "    train_model.create_dataset(path_home, path_model_images, path_dataset)\n",
    "\n",
    "    logger.info(f\"Training model {model_name}...\")\n",
    "    train_model.run_stylegan_training(path_home, path_experiments, path_dataset, snap=10, kimg=kimg)\n",
    "    \n",
    "    logger.info(f\"Cleaning up model directories for {model_name}\")\n",
    "    # split.delete_images_and_dataset_dirs(path_model)\n",
    "\n",
    "        \n",
    "        # train the classifier\n",
    "        # split the training step and the gen steps\n"
   ]
  },
  {
   "cell_type": "code",
   "execution_count": null,
   "metadata": {},
   "outputs": [],
   "source": [
    "subset_df\n",
    "# cnn_train_df"
   ]
  },
  {
   "cell_type": "code",
   "execution_count": null,
   "metadata": {},
   "outputs": [],
   "source": [
    "path_curr_run = os.path.join(path_models, 'run_' + datetime.now().strftime('%Y%m%d_%H-%M'))\n",
    "path_curr_run = '/home/pathorad3090/Documents/Hadar/SyntheticEvaluation/models'\n",
    "\n",
    "for entry in os.scandir(path_curr_run):\n",
    "    if entry.is_dir() and 'model' in str(entry.name):\n",
    "        print(entry.name)\n",
    "        path_model = entry\n",
    "        path_latest_pkl_file = split.get_latest_pkl_file(path_model)\n",
    "        if path_latest_pkl_file:\n",
    "            logger.info(f\"Most recent .pkl file: {path_latest_pkl_file}\")\n",
    "            for gen_size in gen_sizes:\n",
    "                gen_size = gen_size // 10\n",
    "                path_generations = os.path.join(path_model, 'generations_'+ str(gen_size * 10))\n",
    "                logger.info(f\"Generating synthetic images for {entry.name} with generation size {gen_size * 10}...\")\n",
    "                train_model.generate_stylegan_images(path_home, path_latest_pkl_file, path_generations, f\"0-{gen_size}\")\n",
    "        else:\n",
    "            logger.warning(\"No .pkl file found for generation.\")"
   ]
  },
  {
   "cell_type": "code",
   "execution_count": null,
   "metadata": {},
   "outputs": [],
   "source": [
    "path_curr_run = os.path.join(path_models, 'run_' + datetime.now().strftime('%Y%m%d_%H-%M'))\n",
    "path_curr_run = '/home/pathorad3090/Documents/Hadar/SyntheticEvaluation/models'\n",
    "\n",
    "for entry in os.scandir(path_curr_run):\n",
    "    if entry.is_dir() and 'model' in str(entry.name):\n",
    "        print(entry.name)\n",
    "        \n"
   ]
  },
  {
   "cell_type": "code",
   "execution_count": null,
   "metadata": {},
   "outputs": [],
   "source": [
    "# show results - relevant metric: avg/class accuracy, f1, precision, recall, AUC-ROC...\n",
    "# graph/tabular\n",
    "logging.shutdown()\n",
    "\n"
   ]
  }
 ],
 "metadata": {
  "kernelspec": {
   "display_name": "MLH",
   "language": "python",
   "name": "python3"
  },
  "language_info": {
   "codemirror_mode": {
    "name": "ipython",
    "version": 3
   },
   "file_extension": ".py",
   "mimetype": "text/x-python",
   "name": "python",
   "nbconvert_exporter": "python",
   "pygments_lexer": "ipython3",
   "version": "3.7.12"
  }
 },
 "nbformat": 4,
 "nbformat_minor": 2
}
